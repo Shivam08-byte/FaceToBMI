{
 "nbformat": 4,
 "nbformat_minor": 2,
 "metadata": {
  "language_info": {
   "name": "python",
   "codemirror_mode": {
    "name": "ipython",
    "version": 3
   },
   "version": "3.6.9"
  },
  "orig_nbformat": 2,
  "file_extension": ".py",
  "mimetype": "text/x-python",
  "name": "python",
  "npconvert_exporter": "python",
  "pygments_lexer": "ipython3",
  "version": 3
 },
 "cells": [
  {
   "cell_type": "code",
   "execution_count": 19,
   "metadata": {},
   "outputs": [],
   "source": [
    "import torch\n",
    "import torch.nn as nn\n",
    "import torch.nn.functional as F"
   ]
  },
  {
   "cell_type": "code",
   "execution_count": 20,
   "metadata": {},
   "outputs": [],
   "source": [
    "device = torch.device(\"cuda\")"
   ]
  },
  {
   "cell_type": "code",
   "execution_count": 21,
   "metadata": {},
   "outputs": [
    {
     "name": "stdout",
     "output_type": "stream",
     "text": "torch.Size([5, 3])\ntensor([[0.2073, 0.1517, 0.6508],\n        [0.7279, 0.0992, 0.3831],\n        [0.6183, 0.1906, 0.2472],\n        [0.6170, 0.1263, 0.6757],\n        [0.5643, 0.5060, 0.2318]])\n"
    }
   ],
   "source": [
    "x = torch.rand(5,3)\n",
    "print(x.size())\n",
    "print(x)"
   ]
  },
  {
   "cell_type": "markdown",
   "execution_count": 4,
   "metadata": {},
   "outputs": [],
   "source": [
    "### Send tensor to device"
   ]
  },
  {
   "cell_type": "code",
   "execution_count": 22,
   "metadata": {},
   "outputs": [
    {
     "name": "stdout",
     "output_type": "stream",
     "text": "tensor([[0.2073, 0.1517, 0.6508],\n        [0.7279, 0.0992, 0.3831],\n        [0.6183, 0.1906, 0.2472],\n        [0.6170, 0.1263, 0.6757],\n        [0.5643, 0.5060, 0.2318]], device='cuda:0')\n"
    }
   ],
   "source": [
    "x = x.to(device=device)\n",
    "print(x)"
   ]
  },
  {
   "cell_type": "code",
   "execution_count": 23,
   "metadata": {},
   "outputs": [],
   "source": [
    "class one_layer_net(nn.Module):\n",
    "    def __init__(self, input_size, output_size):\n",
    "        super(one_layer_net, self).__init__()\n",
    "        self.linear_layer = nn.Linear(input_size, output_size, bias=False)\n",
    "    def forward(self, x):\n",
    "        return self.linear_layer(x)"
   ]
  },
  {
   "cell_type": "code",
   "execution_count": 24,
   "metadata": {},
   "outputs": [
    {
     "name": "stdout",
     "output_type": "stream",
     "text": "Parameter containing:\ntensor([[ 0.0100,  0.2764,  0.2664, -0.3134, -0.1635],\n        [ 0.1242, -0.1062,  0.3465, -0.4144,  0.4085]], device='cuda:0',\n       requires_grad=True)\n"
    }
   ],
   "source": [
    "net = one_layer_net(5,2)\n",
    "net = net.to(device)\n",
    "print(net.linear_layer.weight)"
   ]
  },
  {
   "cell_type": "code",
   "execution_count": null,
   "metadata": {},
   "outputs": [],
   "source": []
  }
 ]
}