{
 "nbformat": 4,
 "nbformat_minor": 2,
 "metadata": {
  "language_info": {
   "name": "python",
   "codemirror_mode": {
    "name": "ipython",
    "version": 3
   },
   "version": "3.6.9-final"
  },
  "orig_nbformat": 2,
  "file_extension": ".py",
  "mimetype": "text/x-python",
  "name": "python",
  "npconvert_exporter": "python",
  "pygments_lexer": "ipython3",
  "version": 3,
  "kernelspec": {
   "name": "python36964bitfacetobmiconda788e922b6708417e9fe5af960e363fbb",
   "display_name": "Python 3.6.9 64-bit ('facetobmi': conda)"
  }
 },
 "cells": [
  {
   "cell_type": "markdown",
   "execution_count": null,
   "metadata": {},
   "outputs": [],
   "source": [
    "Import Libraries and supporting file"
   ]
  },
  {
   "cell_type": "code",
   "execution_count": 1,
   "metadata": {},
   "outputs": [],
   "source": [
    "import pandas\n",
    "import torch\n",
    "import torch.nn as nn\n",
    "import torch.nn.functional as F\n",
    "import time\n",
    "import utils\n",
    "from sklearn.metrics import r2_score, mean_squared_error\n",
    "from sklearn.model_selection import train_test_split "
   ]
  },
  {
   "cell_type": "code",
   "execution_count": 2,
   "metadata": {},
   "outputs": [
    {
     "name": "stdout",
     "output_type": "stream",
     "text": "1026\n"
    }
   ],
   "source": [
    "profile_dataframe = pandas.read_csv('./Dataset/vip/annotation.csv')\n",
    "profile_dataframe.head()\n",
    "print(len(profile_dataframe))"
   ]
  },
  {
   "cell_type": "code",
   "execution_count": 3,
   "metadata": {},
   "outputs": [
    {
     "name": "stdout",
     "output_type": "stream",
     "text": "Total 1026 photos \n"
    }
   ],
   "source": [
    "from glob import glob\n",
    "all_files = glob(\"./Dataset/vip/data/*\")\n",
    "all_jpgs = sorted([img for img in all_files if \".jpg\" in img or \".jpeg\" in img or \"JPG\" in img])\n",
    "\n",
    "print(\"Total {} photos \".format(len(all_jpgs)))"
   ]
  },
  {
   "cell_type": "code",
   "execution_count": 5,
   "metadata": {},
   "outputs": [],
   "source": [
    "id_path = [image for image in all_jpgs ]\n",
    "image_dataframe = pandas.DataFrame(id_path, columns=['path'])"
   ]
  },
  {
   "cell_type": "code",
   "execution_count": 6,
   "metadata": {},
   "outputs": [
    {
     "data": {
      "text/html": "<div>\n<style scoped>\n    .dataframe tbody tr th:only-of-type {\n        vertical-align: middle;\n    }\n\n    .dataframe tbody tr th {\n        vertical-align: top;\n    }\n\n    .dataframe thead th {\n        text-align: right;\n    }\n</style>\n<table border=\"1\" class=\"dataframe\">\n  <thead>\n    <tr style=\"text-align: right;\">\n      <th></th>\n      <th>path</th>\n      <th>image</th>\n      <th>height</th>\n      <th>weight</th>\n      <th>BMI</th>\n    </tr>\n  </thead>\n  <tbody>\n    <tr>\n      <th>0</th>\n      <td>./Dataset/vip/data/f_001.jpg</td>\n      <td>f_001</td>\n      <td>1.55</td>\n      <td>61.0</td>\n      <td>25.390219</td>\n    </tr>\n    <tr>\n      <th>1</th>\n      <td>./Dataset/vip/data/f_002.jpg</td>\n      <td>f_002</td>\n      <td>1.76</td>\n      <td>85.0</td>\n      <td>27.440599</td>\n    </tr>\n    <tr>\n      <th>2</th>\n      <td>./Dataset/vip/data/f_003.jpg</td>\n      <td>f_003</td>\n      <td>1.78</td>\n      <td>56.0</td>\n      <td>17.674536</td>\n    </tr>\n    <tr>\n      <th>3</th>\n      <td>./Dataset/vip/data/f_004.jpg</td>\n      <td>f_004</td>\n      <td>1.63</td>\n      <td>63.0</td>\n      <td>23.711845</td>\n    </tr>\n    <tr>\n      <th>4</th>\n      <td>./Dataset/vip/data/f_005.jpg</td>\n      <td>f_005</td>\n      <td>1.76</td>\n      <td>54.0</td>\n      <td>17.432851</td>\n    </tr>\n  </tbody>\n</table>\n</div>",
      "text/plain": "                           path  image  height  weight        BMI\n0  ./Dataset/vip/data/f_001.jpg  f_001    1.55    61.0  25.390219\n1  ./Dataset/vip/data/f_002.jpg  f_002    1.76    85.0  27.440599\n2  ./Dataset/vip/data/f_003.jpg  f_003    1.78    56.0  17.674536\n3  ./Dataset/vip/data/f_004.jpg  f_004    1.63    63.0  23.711845\n4  ./Dataset/vip/data/f_005.jpg  f_005    1.76    54.0  17.432851"
     },
     "execution_count": 6,
     "metadata": {},
     "output_type": "execute_result"
    }
   ],
   "source": [
    "data_dataframe = image_dataframe.merge(profile_dataframe, left_index=True, right_index=True)\n",
    "data_dataframe.head()"
   ]
  },
  {
   "cell_type": "code",
   "execution_count": null,
   "metadata": {},
   "outputs": [],
   "source": []
  }
 ]
}