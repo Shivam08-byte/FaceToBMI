{
 "cells": [
  {
   "cell_type": "code",
   "execution_count": 3,
   "metadata": {},
   "outputs": [
    {
     "output_type": "stream",
     "name": "stdout",
     "text": "cuda:0\n"
    }
   ],
   "source": [
    "%matplotlib inline\n",
    "%config InlineBackend.figure_format = \"retina\"\n",
    "import numpy as np\n",
    "import pandas as pd\n",
    "import torch\n",
    "import matplotlib.pyplot as plt\n",
    "from torch import nn, optim\n",
    "from torchvision import datasets, transforms, models\n",
    "import torch.nn.functional as F\n",
    "from torch.autograd import Variable\n",
    "import time\n",
    "from glob import glob\n",
    "from torch.utils.data.sampler import SubsetRandomSampler\n",
    "from collections import OrderedDict\n",
    "device = torch.device(\"cuda:0\" if torch.cuda.is_available() else \"cpu\")\n",
    "print(device)"
   ]
  },
  {
   "cell_type": "code",
   "execution_count": 1,
   "metadata": {},
   "outputs": [
    {
     "output_type": "stream",
     "name": "stdout",
     "text": "['/home/casey/Desktop/FaceToBMI/notebooks', '/tmp/a4267957-ac70-46a1-9de3-5493231693d1', '', '/opt/ros/kinetic/lib/python2.7/dist-packages', '/home/casey/anaconda3/envs/f2b/lib/python37.zip', '/home/casey/anaconda3/envs/f2b/lib/python3.7', '/home/casey/anaconda3/envs/f2b/lib/python3.7/lib-dynload', '/home/casey/anaconda3/envs/f2b/lib/python3.7/site-packages', '/home/casey/anaconda3/envs/f2b/lib/python3.7/site-packages/IPython/extensions', '/home/casey/.ipython']\n"
    }
   ],
   "source": [
    "import sys\n",
    "print(sys.path)\n",
    "sys.path.remove('/opt/ros/kinetic/lib/python2.7/dist-packages')"
   ]
  },
  {
   "cell_type": "code",
   "execution_count": 1,
   "metadata": {},
   "outputs": [],
   "source": [
    "import seaborn as sns"
   ]
  },
  {
   "cell_type": "code",
   "execution_count": null,
   "metadata": {},
   "outputs": [],
   "source": []
  }
 ],
 "metadata": {
  "language_info": {
   "name": "python",
   "codemirror_mode": {
    "name": "ipython",
    "version": 3
   },
   "version": "3.7.6-final"
  },
  "orig_nbformat": 2,
  "file_extension": ".py",
  "mimetype": "text/x-python",
  "name": "python",
  "npconvert_exporter": "python",
  "pygments_lexer": "ipython3",
  "version": 3,
  "kernelspec": {
   "name": "python37664bitf2bconda0ac224b388734a9a80788e701b931014",
   "display_name": "Python 3.7.6 64-bit ('f2b': conda)"
  }
 },
 "nbformat": 4,
 "nbformat_minor": 2
}