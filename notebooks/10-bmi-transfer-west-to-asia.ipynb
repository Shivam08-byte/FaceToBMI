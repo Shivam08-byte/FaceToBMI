{
 "cells": [
  {
   "cell_type": "code",
   "execution_count": 1,
   "metadata": {},
   "outputs": [],
   "source": [
    "# from google.colab import drive\n",
    "# drive.mount('/content/gdrive')\n",
    "# %cd /content/gdrive/My\\ Drive/FaceToBMI/notebooks\n",
    "# !ls"
   ]
  },
  {
   "cell_type": "code",
   "execution_count": 2,
   "metadata": {},
   "outputs": [],
   "source": [
    "import sys\n",
    "sys.path.append(\"..\")\n",
    "sys.path.append(\"../src/\")"
   ]
  },
  {
   "cell_type": "code",
   "execution_count": 3,
   "metadata": {},
   "outputs": [],
   "source": [
    "from src.model.model import get_model\n",
    "from src.data.data import train_val_test_split\n",
    "from src.model.train import train_model, test_model\n",
    "from src.config import cfg\n",
    "from src.visualization.visualize import statistical_plot, plot_sample\n",
    "import pandas as pd\n",
    "import matplotlib.pyplot as plt\n",
    "import torch\n",
    "import seaborn as sns\n",
    "%matplotlib inline"
   ]
  },
  {
   "cell_type": "code",
   "execution_count": 4,
   "metadata": {},
   "outputs": [],
   "source": [
    "epochs = 1 # cfg.epochs = 500\n",
    "num_of_tries = 1 # cfg.num_of_tries = 10\n",
    "is_cuda = torch.cuda.is_available()\n",
    "target = \"bmi\" # weight, height\n",
    "type = \"asia\" # female, male, asia, test, full"
   ]
  },
  {
   "cell_type": "code",
   "execution_count": 5,
   "metadata": {},
   "outputs": [
    {
     "output_type": "stream",
     "name": "stdout",
     "text": "Getting model for continue training!\n\tRunning with Full asian data!\n\tTrain size: 2848 images\n\tValidation size: 320 images\n\tTest size: 800 images\n\tTraining model for 1 epochs with target is bmi\n\t\tEpoch: 1/1\tValidation loss decreased (inf --> 1.876271)\tSaving model\n\tTesting model with target bmi\n\tTesting loss with asia data is: 2.042\n\tExport sampling images\n\n"
    },
    {
     "output_type": "execute_result",
     "data": {
      "text/plain": "2.0418871219712074"
     },
     "metadata": {},
     "execution_count": 5
    }
   ],
   "source": [
    "#Get trained model from western data to train for asian data\n",
    "model = get_model(target=target, type=\"west\", is_continue=True)\n",
    "train_loader, valid_loader, test_loader = train_val_test_split(type=type)\n",
    "train_model(train_loader=train_loader, valid_loader=valid_loader, model=model, epochs=epochs, target=target, type=type)\n",
    "test_model(test_loader=test_loader, model=model, target=target, type=type)"
   ]
  },
  {
   "cell_type": "code",
   "execution_count": null,
   "metadata": {},
   "outputs": [],
   "source": []
  }
 ],
 "metadata": {
  "language_info": {
   "codemirror_mode": {
    "name": "ipython",
    "version": 3
   },
   "file_extension": ".py",
   "mimetype": "text/x-python",
   "name": "python",
   "nbconvert_exporter": "python",
   "pygments_lexer": "ipython3",
   "version": "3.7.7-final"
  },
  "orig_nbformat": 2,
  "kernelspec": {
   "name": "python37764bitf2bvirtualenv59f2f6e4079f4173bdd78d74e6e9fa4c",
   "display_name": "Python 3.7.7 64-bit ('f2b': virtualenv)"
  }
 },
 "nbformat": 4,
 "nbformat_minor": 2
}