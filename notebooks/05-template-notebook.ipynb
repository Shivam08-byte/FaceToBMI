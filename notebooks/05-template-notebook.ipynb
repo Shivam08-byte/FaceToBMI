{
 "cells": [
  {
   "cell_type": "code",
   "execution_count": null,
   "metadata": {},
   "outputs": [],
   "source": [
    "import sys\n",
    "sys.path.append(\"..\")\n",
    "sys.path.append(\"../src/\")"
   ]
  },
  {
   "cell_type": "code",
   "execution_count": null,
   "metadata": {},
   "outputs": [],
   "source": [
    "from src.model.model import get_model\n",
    "from src.data.data import train_val_test_split\n",
    "from src.model.train import train_model, test_model\n",
    "from src.config import cfg\n",
    "from src.visualization.visualize import statistical_plot, plot_sample\n",
    "import pandas as pd\n",
    "import matplotlib.pyplot as plt\n",
    "import torch\n",
    "import seaborn as sns\n",
    "%matplotlib inline"
   ]
  },
  {
   "cell_type": "code",
   "execution_count": null,
   "metadata": {},
   "outputs": [],
   "source": [
    "epochs = 1 # cfg.epochs = 500\n",
    "num_of_tries = 1 # cfg.num_of_tries = 10\n",
    "is_cuda = torch.cuda.is_available()\n",
    "target = \"bmi\" # weight, height\n",
    "type = \"full\" # female, male, asia, test, full"
   ]
  },
  {
   "cell_type": "code",
   "execution_count": null,
   "metadata": {},
   "outputs": [],
   "source": [
    "model = get_model()\n",
    "train_loader, valid_loader, test_loader = train_val_test_split(type=type)\n",
    "train_model(train_loader=train_loader, valid_loader=valid_loader, model=model, epochs=epochs, target=target)\n",
    "test_model(test_loader=test_loader, model=model, target=target)"
   ]
  },
  {
   "cell_type": "code",
   "execution_count": null,
   "metadata": {},
   "outputs": [],
   "source": [
    "print(f\"Randomly training for {num_of_tries} times!\")\n",
    "test_losses = []\n",
    "for current_try in range(num_of_tries):\n",
    "    model = get_model()\n",
    "    train_loader, valid_loader, test_loader = train_val_test_split(type=\"full\")\n",
    "    print(f\"Training {current_try+1}th try with\")\n",
    "    train_model(train_loader=train_loader, valid_loader=valid_loader, model=model, epochs=epochs, target=target)\n",
    "    test_model(test_loader=test_loader, model=model, target=target)"
   ]
  },
  {
   "cell_type": "code",
   "execution_count": null,
   "metadata": {},
   "outputs": [],
   "source": [
    "statistical_plot(data=test_losses, target=target)"
   ]
  }
 ],
 "metadata": {
  "language_info": {
   "codemirror_mode": {
    "name": "ipython",
    "version": 3
   },
   "file_extension": ".py",
   "mimetype": "text/x-python",
   "name": "python",
   "nbconvert_exporter": "python",
   "pygments_lexer": "ipython3",
   "version": "3.7.7-final"
  },
  "orig_nbformat": 2,
  "kernelspec": {
   "name": "python37764bitf2bvirtualenv59f2f6e4079f4173bdd78d74e6e9fa4c",
   "display_name": "Python 3.7.7 64-bit ('f2b': virtualenv)"
  }
 },
 "nbformat": 4,
 "nbformat_minor": 2
}