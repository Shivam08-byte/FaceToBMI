{
 "cells": [
  {
   "cell_type": "code",
   "execution_count": null,
   "metadata": {},
   "outputs": [],
   "source": [
    "%load_ext autoreload\n",
    "%autoreload 2"
   ]
  },
  {
   "cell_type": "code",
   "execution_count": null,
   "metadata": {},
   "outputs": [],
   "source": [
    "import sys\n",
    "sys.path.append(\"..\")\n",
    "sys.path.append(\"../src/\")"
   ]
  },
  {
   "cell_type": "code",
   "execution_count": null,
   "metadata": {},
   "outputs": [],
   "source": [
    "from src.model.model import get_model\n",
    "from src.data.data import train_val_test_split\n",
    "from src.model.train import train_model, test_model, plot_sample\n",
    "from src.config import cfg\n",
    "import pandas as pd\n",
    "import matplotlib.pyplot as plt\n",
    "import seaborn as sns\n",
    "%matplotlib inline"
   ]
  },
  {
   "cell_type": "code",
   "execution_count": null,
   "metadata": {},
   "outputs": [],
   "source": [
    "print(f\"Randomly training for {cfg.num_of_tries} times!\")\n",
    "test_losses = []\n",
    "for current_try in range(cfg.num_of_tries):\n",
    "    model = get_model()\n",
    "    train_loader, valid_loader, test_loader = train_val_test_split(type=\"full\")\n",
    "    print(f\"Training {current_try+1}th try with\")\n",
    "    print(f\"\\tTrain size: {len(train_loader)*cfg.batch_size}\\tValidation size: {len(valid_loader)*cfg.batch_size}\\tTest size: {len(test_loader)*cfg.batch_size}\")\n",
    "    train_model(train_loader=train_loader, valid_loader=valid_loader, model=model)\n",
    "    test_losses.append(test_model(test_loader=test_loader, model=model))"
   ]
  },
  {
   "cell_type": "code",
   "execution_count": null,
   "metadata": {},
   "outputs": [],
   "source": [
    "t = list(range(1, cfg.num_of_tries+1))\n",
    "test_df = pd.DataFrame(list(zip(t, test_losses)), columns=['Try-th', 'Test loss'])\n",
    "test_df['Test loss'].describe()"
   ]
  },
  {
   "cell_type": "code",
   "execution_count": null,
   "metadata": {},
   "outputs": [],
   "source": [
    "f, ax = plt.subplots(figsize=(10, 3))\n",
    "sns.set(style=\"whitegrid\")\n",
    "sns.set_color_codes(\"pastel\")\n",
    "sns.boxplot(x=\"Test loss\", data=test_df);"
   ]
  },
  {
   "cell_type": "code",
   "execution_count": null,
   "metadata": {},
   "outputs": [],
   "source": [
    "plot_sample(data_loader=test_loader, model=model)"
   ]
  }
 ],
 "metadata": {
  "language_info": {
   "name": "python",
   "codemirror_mode": {
    "name": "ipython",
    "version": 3
   },
   "version": "3.7.7-final"
  },
  "orig_nbformat": 2,
  "file_extension": ".py",
  "mimetype": "text/x-python",
  "name": "python",
  "npconvert_exporter": "python",
  "pygments_lexer": "ipython3",
  "version": 3,
  "kernelspec": {
   "name": "python37764bitf2bvirtualenv59f2f6e4079f4173bdd78d74e6e9fa4c",
   "display_name": "Python 3.7.7 64-bit ('f2b': virtualenv)"
  }
 },
 "nbformat": 4,
 "nbformat_minor": 2
}