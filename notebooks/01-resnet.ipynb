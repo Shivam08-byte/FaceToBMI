{
 "nbformat": 4,
 "nbformat_minor": 2,
 "metadata": {
  "language_info": {
   "name": "python",
   "codemirror_mode": {
    "name": "ipython",
    "version": 3
   },
   "version": "3.7.6-final"
  },
  "orig_nbformat": 2,
  "file_extension": ".py",
  "mimetype": "text/x-python",
  "name": "python",
  "npconvert_exporter": "python",
  "pygments_lexer": "ipython3",
  "version": 3,
  "kernelspec": {
   "name": "python37664bitf2bconda1887e22467f64f0497eae62b7c5e5f5e",
   "display_name": "Python 3.7.6 64-bit ('f2b': conda)"
  }
 },
 "cells": [
  {
   "cell_type": "code",
   "execution_count": 50,
   "metadata": {},
   "outputs": [
    {
     "output_type": "stream",
     "name": "stdout",
     "text": "cpu\n"
    }
   ],
   "source": [
    "%matplotlib inline\n",
    "%config InlineBackend.figure_format = \"retina\"\n",
    "import numpy as np\n",
    "import pandas as pd\n",
    "import torch\n",
    "import matplotlib.pyplot as plt\n",
    "from torch import nn, optim\n",
    "from torchvision import datasets, transforms, models\n",
    "import torch.nn.functional as F\n",
    "from torch.autograd import Variable\n",
    "import time\n",
    "from torch.utils.data.sampler import SubsetRandomSampler\n",
    "from collections import OrderedDict\n",
    "# device = torch.device(\"cuda:0\" if torch.cuda.is_available() else \"cpu\")\n",
    "device = torch.device(\"cpu\")\n",
    "print(device)"
   ]
  },
  {
   "cell_type": "code",
   "execution_count": 30,
   "metadata": {},
   "outputs": [],
   "source": [
    "# Set up place to download pretrained model from internet\n",
    "# import os\n",
    "# os.environ['TORCH_HOME'] = '../models/pretrained/'"
   ]
  },
  {
   "cell_type": "code",
   "execution_count": 51,
   "metadata": {},
   "outputs": [
    {
     "output_type": "stream",
     "name": "stdout",
     "text": "Loading data ....\nDone!\n"
    }
   ],
   "source": [
    "# data_dir = '../data/processed'\n",
    "data_dir = '../data/'\n",
    "batch_size = 16\n",
    "valid_size = 0.2\n",
    "num_workers = 4\n",
    "\n",
    "#Define a transform\n",
    "train_transforms = transforms.Compose([\n",
    "    transforms.RandomRotation(30),\n",
    "    transforms.RandomResizedCrop(224),\n",
    "    transforms.RandomHorizontalFlip(),\n",
    "    transforms.ToTensor(),\n",
    "    transforms.Normalize((0.485, 0.456, 0.406),(0.229, 0.224, 0.225))\n",
    "    ])\n",
    "\n",
    "test_transforms = transforms.Compose([\n",
    "    transforms.Resize(255),\n",
    "    transforms.CenterCrop(224),\n",
    "    transforms.ToTensor()\n",
    "])\n",
    "\n",
    "train_data = datasets.ImageFolder(data_dir + \"/raw\", transform=train_transforms)\n",
    "\n",
    "num_train = len(train_data)\n",
    "indices = list(range(num_train))\n",
    "np.random.shuffle(indices)\n",
    "split = int(np.floor(valid_size*num_train))\n",
    "train_idx, valid_idx = indices[split:], indices[:split]\n",
    "\n",
    "train_sampler = SubsetRandomSampler(train_idx)\n",
    "valid_sampler = SubsetRandomSampler(valid_idx)\n",
    "\n",
    "print(\"Loading data ....\")\n",
    "train_loader = torch.utils.data.DataLoader(train_data, batch_size=batch_size, sampler=train_sampler, num_workers=num_workers)\n",
    "valid_loader = torch.utils.data.DataLoader(train_data, batch_size=batch_size, sampler=valid_sampler, num_workers=num_workers)\n",
    "\n",
    "#For loading test data\n",
    "# test_data = datasets.ImageFolder(data_dir + \"/test\", transform=test_transforms)\n",
    "# testloader = torch.utils.data.DataLoader(test_data, batch_size=batch_size, num_workers=num_workers)\n",
    "print(\"Done!\")"
   ]
  },
  {
   "cell_type": "code",
   "execution_count": 52,
   "metadata": {},
   "outputs": [
    {
     "output_type": "stream",
     "name": "stdout",
     "text": "Annotation data:  1026\n"
    }
   ],
   "source": [
    "data_path = \"../data/raw/\"\n",
    "dataframe = pd.read_csv(data_path+'annotation.csv')\n",
    "dataframe.head()\n",
    "print(\"Annotation data: \",len(dataframe))\n",
    "height = torch.from_numpy(np.array(dataframe.height.values))\n",
    "weight = torch.from_numpy(np.array(dataframe.weight.values))\n",
    "BMI = torch.from_numpy(np.array(dataframe.BMI.values))"
   ]
  },
  {
   "cell_type": "code",
   "execution_count": 53,
   "metadata": {},
   "outputs": [],
   "source": [
    "model = models.resnet50(pretrained=True)"
   ]
  },
  {
   "cell_type": "code",
   "execution_count": 58,
   "metadata": {},
   "outputs": [],
   "source": [
    "for param in model.parameters():\n",
    "  param.requires_grad = False\n",
    "\n",
    "from collections import OrderedDict\n",
    "\n",
    "fc = nn.Sequential(OrderedDict([\n",
    "    # (\"average\", nn.AvgPool1d()),\n",
    "    (\"fc1\", nn.Linear(2048, 1024)),\n",
    "    (\"relu1\", nn.ReLU()),\n",
    "    (\"fc2\", nn.Linear(1024, 512)),\n",
    "    (\"relu2\", nn.ReLU()),\n",
    "    (\"output\", nn.Linear(512, 1)),\n",
    "]))\n",
    "\n",
    "model.fc = fc\n",
    "\n",
    "#Move model to GPU\n",
    "model.to(device);"
   ]
  },
  {
   "cell_type": "code",
   "execution_count": 59,
   "metadata": {},
   "outputs": [],
   "source": [
    "base_learning_rate = 1e-5\n",
    "epochs = 2\n",
    "weight_decay = 0.0005\n",
    "gamma = 0.001\n",
    "power = 0.75\n",
    "criterion = nn.SmoothL1Loss().to(device)\n",
    "train_losses, valid_losses = [], []\n",
    "steps = 0"
   ]
  },
  {
   "cell_type": "code",
   "execution_count": 61,
   "metadata": {},
   "outputs": [
    {
     "output_type": "stream",
     "name": "stdout",
     "text": "Epoch: 1/2.. Training loss: 0.006 Validating loss: 0.004\nEpoch: 2/2.. Training loss: 0.005 Validating loss: 0.003\n"
    }
   ],
   "source": [
    "#training model\n",
    "for epoch in range(epochs):\n",
    "    running_loss = 0\n",
    "    learning_rate = base_learning_rate*(1+gamma*epoch)**(-power)\n",
    "    optimizer = optim.SGD(model.fc.parameters(), lr=learning_rate, weight_decay=weight_decay, momentum=0.9)\n",
    "    \n",
    "    for images, values in trainloader:\n",
    "        # Reset optimizer\n",
    "        optimizer.zero_grad()\n",
    "\n",
    "        #Send data to GPU\n",
    "        images = images.to(device)\n",
    "        values = values.type(torch.FloatTensor).to(device)\n",
    "\n",
    "        #Training model\n",
    "        predictions = model(images)\n",
    "        loss = criterion(predictions, values)\n",
    "        \n",
    "        #Backpropagation\n",
    "        loss.backward()\n",
    "\n",
    "        #Update weight\n",
    "        optimizer.step()\n",
    "    \n",
    "        #Calculate running loss\n",
    "        running_loss += loss.item()\n",
    "    else:\n",
    "        validating_loss = 0\n",
    "\n",
    "        #Turn off the gradient descent, save memory and computations\n",
    "        with torch.no_grad():\n",
    "            for images, values in valid_loader:\n",
    "\n",
    "                #Move data to GPU\n",
    "                images = images.to(device)\n",
    "                values = values.type(torch.FloatTensor).to(device)\n",
    "\n",
    "                #Run model\n",
    "                predictions = model(images)\n",
    "                loss = criterion(predictions, values)\n",
    "                validating_loss += loss.item()\n",
    "    \n",
    "        train_losses.append(running_loss/len(train_loader))\n",
    "        valid_losses.append(validating_loss/len(valid_loader))\n",
    "\n",
    "        print(\n",
    "            \"Epoch: {}/{}..\".format(epoch+1, epochs),\n",
    "            \"Training loss: {:.3f}\".format(running_loss/len(train_loader)),\n",
    "            \"Validating loss: {:.3f}\".format(validating_loss/len(valid_loader))\n",
    "            )"
   ]
  },
  {
   "cell_type": "code",
   "execution_count": 62,
   "metadata": {},
   "outputs": [
    {
     "output_type": "display_data",
     "data": {
      "text/plain": "<Figure size 432x288 with 1 Axes>",
      "image/png": "[encoded data removed]"
     },
     "metadata": {
      "image/png": {
       "width": 391,
       "height": 248
      },
      "needs_background": "light"
     }
    }
   ],
   "source": [
    "plt.plot(train_losses, label=\"Training loss\")\n",
    "plt.plot(valid_losses, label=\"Validation loss\")\n",
    "plt.legend(frameon=False);"
   ]
  },
  {
   "cell_type": "code",
   "execution_count": null,
   "metadata": {},
   "outputs": [],
   "source": []
  }
 ]
}